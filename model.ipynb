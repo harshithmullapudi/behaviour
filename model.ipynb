{
 "cells": [
  {
   "cell_type": "code",
   "execution_count": 1,
   "metadata": {},
   "outputs": [],
   "source": [
    "import pandas as pd\n",
    "import cv2\n",
    "import numpy as np\n",
    "from sklearn.model_selection import train_test_split\n",
    "import matplotlib.image as mpimg\n",
    "import os"
   ]
  },
  {
   "cell_type": "code",
   "execution_count": 2,
   "metadata": {},
   "outputs": [],
   "source": [
    "data = pd.read_csv(\"./data/driving_log.csv\")\n",
    "X = data[['center', 'left', 'right']].values\n",
    "y = data['steering'].values\n",
    "\n",
    "X_train, X_valid, y_train, y_valid = train_test_split(X, y, test_size=0.1, random_state=0)"
   ]
  },
  {
   "cell_type": "code",
   "execution_count": 3,
   "metadata": {},
   "outputs": [],
   "source": [
    "def choose(center, left, right, angle):\n",
    "    choice = np.random.choice(3)\n",
    "    if choice == 0:\n",
    "        return image(left), angle + 0.2\n",
    "    elif choice == 1:\n",
    "        return image(right), angle - 0.2\n",
    "    return image(center), angle\n",
    "\n",
    "\n",
    "def image(file):\n",
    "    return mpimg.imread(\"./data/\"+file.strip())\n",
    "\n",
    "\n",
    "\n",
    "def translate(image, angle, rangex, rangey):\n",
    "    transx = rangex * (np.random.rand() - 0.5)\n",
    "    transy = rangey * (np.random.rand() - 0.5)\n",
    "    angle += transx * 0.002\n",
    "    transm = np.float32([[1, 0, transx], [0, 1, transy]])\n",
    "  \n",
    "    height, width = image.shape[:2]\n",
    "    image = cv2.warpAffine(image, transm, (width, height))\n",
    "    return image, angle\n",
    "\n",
    "\n",
    "def flip(image, angle):\n",
    "  \n",
    "    if np.random.rand() < 0.5:\n",
    "        image = cv2.flip(image, 1)\n",
    "        angle = - angle\n",
    "    return image, angle\n",
    "\n",
    "def preprocess(image):\n",
    "    image = cv2.resize(image, (320, 160), cv2.INTER_AREA)\n",
    "    image = cv2.cvtColor(image, cv2.COLOR_RGB2YUV)\n",
    "    return image\n",
    "\n",
    "def shadow(image):\n",
    "    x1, y1 = 320 * np.random.rand(), 0\n",
    "    x2, y2 = 320 * np.random.rand(), 160\n",
    "    xm, ym = np.mgrid[0:160, 0:320]\n",
    "    mask = np.zeros_like(image[:, :, 1])\n",
    "    mask[(ym - y1) * (x2 - x1) - (y2 - y1) * (xm - x1) > 0] = 1\n",
    "    cond = mask == np.random.randint(2)\n",
    "    s_ratio = np.random.uniform(low=0.2, high=0.5)\n",
    "    hls = cv2.cvtColor(image, cv2.COLOR_RGB2HLS)\n",
    "    hls[:, :, 1][cond] = hls[:, :, 1][cond] * s_ratio\n",
    "    return cv2.cvtColor(hls, cv2.COLOR_HLS2RGB)\n",
    "\n",
    "def augument(center, left, right, angle, rangex=100, rangey=10):\n",
    "    image, angle = choose( center, left, right,angle)\n",
    "    image, angle = flip(image, angle)\n",
    "    image, angle = translate(image, angle, rangex, rangey)\n",
    "    image = shadow(image)\n",
    "    image = brightness(image)\n",
    "    return image, angle\n",
    "\n",
    "\n",
    "\n",
    "def brightness(image):\n",
    "    # HSV (Hue, Saturation, Value) is also called HSB ('B' for Brightness).\n",
    "    hsv = cv2.cvtColor(image, cv2.COLOR_RGB2HSV)\n",
    "    ratio = 1.0 + 0.4 * (np.random.rand() - 0.5)\n",
    "    hsv[:,:,2] =  hsv[:,:,2] * ratio\n",
    "    return cv2.cvtColor(hsv, cv2.COLOR_HSV2RGB)\n",
    "\n",
    "def generator(image_paths, angles, batch_size, training):\n",
    "    images = np.empty([batch_size,160,320,3])\n",
    "    steers = np.empty(batch_size)\n",
    "    while True:\n",
    "        i = 0\n",
    "        for index in np.random.permutation(image_paths.shape[0]):\n",
    "            center, left, right = image_paths[index]\n",
    "            angle = angles[index]\n",
    "            # argumentation\n",
    "            if training and np.random.rand() < 0.6:\n",
    "                image, angle = augument(center, left, right, angle)\n",
    "            else:\n",
    "                image = image(center) \n",
    "            # add the image and steering angle to the batch\n",
    "            images[i] = preprocess(image)\n",
    "            steers[i] = angle\n",
    "            i = i + 1\n",
    "            if i == batch_size:\n",
    "                break\n",
    "        yield images, steers"
   ]
  },
  {
   "cell_type": "code",
   "execution_count": null,
   "metadata": {},
   "outputs": [],
   "source": []
  },
  {
   "cell_type": "code",
   "execution_count": 8,
   "metadata": {},
   "outputs": [],
   "source": [
    "import keras\n",
    "from keras.models import Sequential\n",
    "from keras.optimizers import Adam\n",
    "from keras.callbacks import ModelCheckpoint\n",
    "from keras.layers import Cropping2D,Flatten,Dense, Convolution2D, MaxPooling2D, Dropout, Lambda\n",
    "from keras.optimizers import Adam"
   ]
  },
  {
   "cell_type": "code",
   "execution_count": 9,
   "metadata": {},
   "outputs": [
    {
     "name": "stdout",
     "output_type": "stream",
     "text": [
      "_________________________________________________________________\n",
      "Layer (type)                 Output Shape              Param #   \n",
      "=================================================================\n",
      "lambda_2 (Lambda)            (None, 160, 320, 3)       0         \n",
      "_________________________________________________________________\n",
      "cropping2d_2 (Cropping2D)    (None, 65, 320, 3)        0         \n",
      "_________________________________________________________________\n",
      "conv2d_6 (Conv2D)            (None, 31, 158, 24)       1824      \n",
      "_________________________________________________________________\n",
      "conv2d_7 (Conv2D)            (None, 14, 77, 36)        21636     \n",
      "_________________________________________________________________\n",
      "conv2d_8 (Conv2D)            (None, 5, 37, 48)         43248     \n",
      "_________________________________________________________________\n",
      "conv2d_9 (Conv2D)            (None, 3, 35, 64)         27712     \n",
      "_________________________________________________________________\n",
      "conv2d_10 (Conv2D)           (None, 1, 33, 64)         36928     \n",
      "_________________________________________________________________\n",
      "dropout_2 (Dropout)          (None, 1, 33, 64)         0         \n",
      "_________________________________________________________________\n",
      "flatten_2 (Flatten)          (None, 2112)              0         \n",
      "_________________________________________________________________\n",
      "dense_5 (Dense)              (None, 100)               211300    \n",
      "_________________________________________________________________\n",
      "dense_6 (Dense)              (None, 50)                5050      \n",
      "_________________________________________________________________\n",
      "dense_7 (Dense)              (None, 10)                510       \n",
      "_________________________________________________________________\n",
      "dense_8 (Dense)              (None, 1)                 11        \n",
      "=================================================================\n",
      "Total params: 348,219\n",
      "Trainable params: 348,219\n",
      "Non-trainable params: 0\n",
      "_________________________________________________________________\n"
     ]
    },
    {
     "name": "stderr",
     "output_type": "stream",
     "text": [
      "/home/nani/.conda/envs/car/lib/python3.5/site-packages/ipykernel/__main__.py:4: UserWarning: Update your `Conv2D` call to the Keras 2 API: `Conv2D(24, (5, 5), strides=(2, 2), activation=\"relu\")`\n",
      "/home/nani/.conda/envs/car/lib/python3.5/site-packages/ipykernel/__main__.py:5: UserWarning: Update your `Conv2D` call to the Keras 2 API: `Conv2D(36, (5, 5), strides=(2, 2), activation=\"relu\")`\n",
      "/home/nani/.conda/envs/car/lib/python3.5/site-packages/ipykernel/__main__.py:6: UserWarning: Update your `Conv2D` call to the Keras 2 API: `Conv2D(48, (5, 5), strides=(2, 2), activation=\"relu\")`\n"
     ]
    }
   ],
   "source": [
    "model = Sequential()\n",
    "model.add(Lambda(lambda x: x/255.0-0.5, input_shape=(160,320,3)))\n",
    "model.add(Cropping2D(cropping=((70,25),(0,0))))\n",
    "model.add(Convolution2D(24, (5, 5), activation='relu', subsample=(2, 2)))\n",
    "model.add(Convolution2D(36, (5, 5), activation='relu', subsample=(2, 2)))\n",
    "model.add(Convolution2D(48, (5, 5), activation='relu', subsample=(2, 2)))\n",
    "model.add(Convolution2D(64, (3, 3), activation='relu'))\n",
    "model.add(Convolution2D(64, (3, 3), activation='relu'))\n",
    "model.add(Dropout(0.5))\n",
    "model.add(Flatten())\n",
    "model.add(Dense(100))\n",
    "model.add(Dense(50))\n",
    "model.add(Dense(10))\n",
    "model.add(Dense(1))\n",
    "model.summary()"
   ]
  },
  {
   "cell_type": "code",
   "execution_count": null,
   "metadata": {},
   "outputs": [
    {
     "name": "stdout",
     "output_type": "stream",
     "text": [
      "Epoch 1/10\n",
      "20000/20000 [==============================] - 6012s 301ms/step - loss: 208.4458 - val_loss: 35.3267\n",
      "Epoch 2/10\n",
      "10102/20000 [==============>...............] - ETA: 1:15:11 - loss: 155.4062"
     ]
    }
   ],
   "source": [
    "checkpoint = ModelCheckpoint('model-{epoch:03d}.h5',\n",
    "                                 monitor='val_loss',\n",
    "                                 verbose=1,\n",
    "                                 save_best_only=True,\n",
    "                                 mode='auto')\n",
    "\n",
    "model.compile(loss='mse', optimizer=Adam(lr=1e-3))\n",
    "model.fit_generator(generator( X_train, y_train, 64, True), 20000,\n",
    "validation_data=generator(X_valid, y_valid, 64, False), validation_steps=len(X_valid)/64, epochs=10, verbose = 1)\n"
   ]
  },
  {
   "cell_type": "code",
   "execution_count": 7,
   "metadata": {},
   "outputs": [],
   "source": [
    "model.save(\"model.h5\")"
   ]
  },
  {
   "cell_type": "code",
   "execution_count": null,
   "metadata": {},
   "outputs": [],
   "source": [
    "    "
   ]
  }
 ],
 "metadata": {
  "kernelspec": {
   "display_name": "Python 3",
   "language": "python",
   "name": "python3"
  },
  "language_info": {
   "codemirror_mode": {
    "name": "ipython",
    "version": 3
   },
   "file_extension": ".py",
   "mimetype": "text/x-python",
   "name": "python",
   "nbconvert_exporter": "python",
   "pygments_lexer": "ipython3",
   "version": "3.6.4"
  }
 },
 "nbformat": 4,
 "nbformat_minor": 2
}
